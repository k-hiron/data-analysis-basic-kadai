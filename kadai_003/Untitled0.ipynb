{
  "cells": [
    {
      "cell_type": "code",
      "execution_count": 2,
      "metadata": {
        "id": "MvUBgfHsPyPw"
      },
      "outputs": [],
      "source": [
        "import numpy as np\n"
      ]
    },
    {
      "cell_type": "code",
      "execution_count": 3,
      "metadata": {
        "colab": {
          "base_uri": "https://localhost:8080/"
        },
        "id": "4cnoMP_LSoOg",
        "outputId": "78d321d0-bfb3-4b1a-ae8d-839d8286e9f8"
      },
      "outputs": [
        {
          "name": "stdout",
          "output_type": "stream",
          "text": [
            "[[0 2 4]\n",
            " [1 3 5]]\n",
            "[[0 4]\n",
            " [1 5]\n",
            " [2 6]\n",
            " [3 7]]\n"
          ]
        }
      ],
      "source": [
        "multi_array_A = np.array([[0, 2, 4], [1, 3, 5]])\n",
        "print(multi_array_A)\n",
        "multi_array_B = np.array([[0, 4], [1, 5], [2, 6], [3, 7]])\n",
        "print(multi_array_B)\n"
      ]
    },
    {
      "cell_type": "code",
      "execution_count": 4,
      "metadata": {
        "colab": {
          "base_uri": "https://localhost:8080/"
        },
        "id": "TpjknnFMY0XU",
        "outputId": "b523cc2d-c676-459b-fb09-5d2efb905145"
      },
      "outputs": [
        {
          "data": {
            "text/plain": [
              "array([[ 4,  5,  6,  7],\n",
              "       [12, 17, 22, 27],\n",
              "       [20, 29, 38, 47]])"
            ]
          },
          "execution_count": 4,
          "metadata": {},
          "output_type": "execute_result"
        }
      ],
      "source": [
        "A = np.array([[0, 1], [2, 3], [4, 5]])\n",
        "B = np.array([[0, 1, 2, 3], [4, 5, 6, 7]])\n",
        "np.dot(A, B)"
      ]
    },
    {
      "cell_type": "code",
      "execution_count": 12,
      "metadata": {
        "colab": {
          "base_uri": "https://localhost:8080/"
        },
        "id": "pYP3ZmmdbW_9",
        "outputId": "4bee1ec0-5135-4fdc-da18-95917f5c9bba"
      },
      "outputs": [
        {
          "data": {
            "text/plain": [
              "7"
            ]
          },
          "execution_count": 12,
          "metadata": {},
          "output_type": "execute_result"
        }
      ],
      "source": [
        "A = np.array([[0, 1], [2, 3], [4, 5]])\n",
        "B = np.array([[0, 1, 2, 3], [4, 5, 6, 7]])\n",
        "np.dot(A, B)\n",
        "multi_array_A.max()\n",
        "multi_array_B.max()\n"
      ]
    }
  ],
  "metadata": {
    "colab": {
      "provenance": []
    },
    "kernelspec": {
      "display_name": "Python 3",
      "name": "python3"
    },
    "language_info": {
      "name": "python"
    }
  },
  "nbformat": 4,
  "nbformat_minor": 0
}
